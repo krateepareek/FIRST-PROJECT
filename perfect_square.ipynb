{
  "nbformat": 4,
  "nbformat_minor": 0,
  "metadata": {
    "colab": {
      "name": "perfect_square",
      "provenance": [],
      "authorship_tag": "ABX9TyOOkIJZEP7QHfskf7b1/fuC",
      "include_colab_link": true
    },
    "kernelspec": {
      "name": "python3",
      "display_name": "Python 3"
    }
  },
  "cells": [
    {
      "cell_type": "markdown",
      "metadata": {
        "id": "view-in-github",
        "colab_type": "text"
      },
      "source": [
        "<a href=\"https://colab.research.google.com/github/krateepareek/FIRST-PROJECT/blob/master/perfect_square.ipynb\" target=\"_parent\"><img src=\"https://colab.research.google.com/assets/colab-badge.svg\" alt=\"Open In Colab\"/></a>"
      ]
    },
    {
      "cell_type": "code",
      "metadata": {
        "id": "ynL3DH2J9bqz",
        "outputId": "c77df660-cd0e-4bae-c40d-67e1a8291d54",
        "colab": {
          "base_uri": "https://localhost:8080/",
          "height": 52
        }
      },
      "source": [
        "def sqrt(p,cnt):\n",
        "  t=(int)(math.sqrt(p))\n",
        "  p=p-(t**2)\n",
        "  cnt+=1\n",
        "  if p==1:\n",
        "    return 1\n",
        "  elif p==0:\n",
        "    return cnt\n",
        "  else:\n",
        "    return sqrt(p,cnt)\n",
        "\n",
        "def check(r):\n",
        "  global ip\n",
        "  cnt=1\n",
        "  p=ip-(r**2)\n",
        "  if p==1:\n",
        "    return 2\n",
        "  else:\n",
        "    for i in range(2,(int)(math.sqrt(p))+1):\n",
        "      if p%i==0:\n",
        "        t=sqrt(p,cnt)\n",
        "        if(t==1):\n",
        "          break\n",
        "        else:\n",
        "          return t\n",
        "    return check(r-1)\n",
        "\n",
        "import math\n",
        "ip=int(input())\n",
        "r=(int)(math.sqrt(ip))\n",
        "p=check(r)\n",
        "print(p)"
      ],
      "execution_count": 20,
      "outputs": [
        {
          "output_type": "stream",
          "text": [
            "102\n",
            "4\n"
          ],
          "name": "stdout"
        }
      ]
    },
    {
      "cell_type": "code",
      "metadata": {
        "id": "VJVX8yRrlPcH"
      },
      "source": [
        ""
      ],
      "execution_count": null,
      "outputs": []
    }
  ]
}